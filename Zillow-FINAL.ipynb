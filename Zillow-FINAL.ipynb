{
 "cells": [
  {
   "cell_type": "code",
   "execution_count": 1,
   "id": "78ad51be",
   "metadata": {},
   "outputs": [],
   "source": [
    "import pandas as pd\n",
    "import numpy as np\n",
    "import matplotlib.pyplot as plt\n",
    "import seaborn as sns\n",
    "import os\n",
    "from env import get_db_url\n",
    "import wrangle\n",
    "from statistics import stdev\n",
    "from sklearn.model_selection import train_test_split\n",
    "from itertools import combinations, product, permutations\n",
    "import sklearn.preprocessing\n",
    "from sklearn.linear_model import LinearRegression\n",
    "from sklearn.metrics import mean_squared_error\n",
    "import scipy.stats as stats\n",
    "from sklearn.linear_model import LinearRegression, LassoLars, TweedieRegressor\n",
    "from sklearn.preprocessing import PolynomialFeatures"
   ]
  },
  {
   "cell_type": "markdown",
   "id": "f33768ec",
   "metadata": {},
   "source": [
    "### Acquire\n",
    "- Zillow data was pulled from Codeup's database utilizing a SQL query for single family homes with transcations in 2017.\n",
    "- Looking at the dataset in MySQLWorkbench, many columns were missing data or had erroneous information.\n",
    "- Information gathered was:\n",
    "    - taxvaluedollarcnt(Tax_Appraised_Value - **target**)\n",
    "    - bedroomcnt(Number_of_Bedrooms)\n",
    "    - bathroomcnt(Number_of_Bathrooms)\n",
    "    - calculatedfinishedsquarefeet(Square_Feet)\n",
    "    - lotsizesquarefeet(Lot_Size)\n",
    "    - yearbuilt(Year_Built)\n",
    "    - fips(County_Code)\n",
    "    - taxamount(Tax_Assessed)\n",
    "\n"
   ]
  },
  {
   "cell_type": "code",
   "execution_count": 2,
   "id": "5b68857d",
   "metadata": {},
   "outputs": [],
   "source": [
    "df = wrangle.get_zillow_data()"
   ]
  },
  {
   "cell_type": "markdown",
   "id": "9f72f343",
   "metadata": {},
   "source": [
    "### Prepare\n",
    "  \n",
    "   - **Data cleaning:**\n",
    "   - dropped nulls, converted fips(County_Code) to counties, converted floats to integers\n",
    "   \n",
    "   - **Parameters of home values**\n",
    "       - The data has been updated to include only home with greater than 1 bed, 1 bath, and a minimum of 120 sq. ft.\n",
    "       - Approximately 8% of data was dropped to exclude outliers.\n",
    "           - Values are:\n",
    "               - 7 Beds\n",
    "               - 7.5 Baths\n",
    "               - 10,000 or less sq. feet\n",
    "               - 20,000 or less sq. feet (lot size)\n",
    "               - Greater than 50K or less than 3.5M in appraised value\n",
    "   "
   ]
  },
  {
   "cell_type": "code",
   "execution_count": 3,
   "id": "5a8de98f",
   "metadata": {},
   "outputs": [
    {
     "name": "stderr",
     "output_type": "stream",
     "text": [
      "/opt/homebrew/anaconda3/lib/python3.9/site-packages/pandas/core/generic.py:8870: SettingWithCopyWarning: \n",
      "A value is trying to be set on a copy of a slice from a DataFrame\n",
      "\n",
      "See the caveats in the documentation: https://pandas.pydata.org/pandas-docs/stable/user_guide/indexing.html#returning-a-view-versus-a-copy\n",
      "  return self._update_inplace(result)\n",
      "/opt/homebrew/anaconda3/lib/python3.9/site-packages/pandas/core/frame.py:5039: SettingWithCopyWarning: \n",
      "A value is trying to be set on a copy of a slice from a DataFrame\n",
      "\n",
      "See the caveats in the documentation: https://pandas.pydata.org/pandas-docs/stable/user_guide/indexing.html#returning-a-view-versus-a-copy\n",
      "  return super().rename(\n"
     ]
    }
   ],
   "source": [
    "df = wrangle.prepare_zillow_data(df)"
   ]
  },
  {
   "cell_type": "code",
   "execution_count": 4,
   "id": "cbc39a3c",
   "metadata": {},
   "outputs": [],
   "source": [
    "df = wrangle.handle_outliers(df)"
   ]
  },
  {
   "cell_type": "markdown",
   "id": "83046900",
   "metadata": {},
   "source": [
    "### Explore\n",
    "- Questions to answer:\n",
    "    - Do the number of bedrooms correlate to the appraised value?\n",
    "    - Do the number of bathrooms correlate to the appraised value?\n",
    "    - Does square feet impact the appraised value?\n",
    "    - Does lot size impact the appraised value?\n",
    "    - Does the county impact the appraised value?"
   ]
  },
  {
   "cell_type": "code",
   "execution_count": 5,
   "id": "2d023fee",
   "metadata": {},
   "outputs": [],
   "source": [
    "# split into train, validate, test before exploration\n",
    "train, validate, test = wrangle.split_zillow_data(df)"
   ]
  },
  {
   "cell_type": "code",
   "execution_count": 6,
   "id": "c90029a1",
   "metadata": {},
   "outputs": [
    {
     "data": {
      "image/png": "[encoded data removed]",
      "text/plain": [
       "<Figure size 360x360 with 1 Axes>"
      ]
     },
     "metadata": {
      "needs_background": "light"
     },
     "output_type": "display_data"
    }
   ],
   "source": [
    "# visualize distibution of target variable \n",
    "sns.displot(df.Tax_Appraised_Value)\n",
    "plt.show()"
   ]
  },
  {
   "cell_type": "markdown",
   "id": "c12ab607",
   "metadata": {},
   "source": [
    "### Number of Bedrooms to Appraised Value\n",
    "- Null Hypothesis: There is no linear correlation between the number of bedrooms and the appraised value of the home.\n",
    "- Alternative Hypothesis: There is a linear correlation between the number of bedrooms and the appraised value of the home."
   ]
  },
  {
   "cell_type": "code",
   "execution_count": 7,
   "id": "3fcf7a2d",
   "metadata": {},
   "outputs": [
    {
     "data": {
      "text/plain": [
       "(True, 0.24309351177692087)"
      ]
     },
     "execution_count": 7,
     "metadata": {},
     "output_type": "execute_result"
    }
   ],
   "source": [
    "alpha=.05\n",
    "corr, p = stats.pearsonr(train.Number_of_Bedrooms, train.Tax_Appraised_Value)\n",
    "p < alpha, corr"
   ]
  },
  {
   "cell_type": "markdown",
   "id": "b2c910bd",
   "metadata": {},
   "source": [
    "**Reject the null hypothesis that there is no linear correlation. Correlation between the number of bedrooms and appraised value is statistically significant, although weak, with an r value at .24**"
   ]
  },
  {
   "cell_type": "markdown",
   "id": "c619df54",
   "metadata": {},
   "source": [
    "### Number of Bathrooms to Appraised Value\n",
    "- Null Hypothesis: There is no linear correlation between the number of bathrooms and the appraised value of the home.\n",
    "- Alternative Hypothesis: There is a linear correlation between the number of bathrooms and the appraised value of the home."
   ]
  },
  {
   "cell_type": "code",
   "execution_count": 8,
   "id": "10b97efd",
   "metadata": {},
   "outputs": [
    {
     "data": {
      "text/plain": [
       "(True, 0.4956479170148407)"
      ]
     },
     "execution_count": 8,
     "metadata": {},
     "output_type": "execute_result"
    }
   ],
   "source": [
    "alpha=.05\n",
    "corr, p = stats.pearsonr(train.Number_of_Bathrooms, train.Tax_Appraised_Value)\n",
    "p < alpha, corr"
   ]
  },
  {
   "cell_type": "markdown",
   "id": "b0d0511e",
   "metadata": {},
   "source": [
    "**Reject the null hypothesis that there is no linear correlation. Correlation between the number of bathrooms and appraised value is statistically significant, with an r value at .50**"
   ]
  },
  {
   "cell_type": "markdown",
   "id": "fb19bb7b",
   "metadata": {},
   "source": [
    "### Square Feet to Appraised Value\n",
    "\n",
    "- Null Hypothesis: There is no linear correlation between square feet and the appraised value of the home.\n",
    "- Alternative Hypothesis: There is a linear correlation between square feet and the appraised value of the home."
   ]
  },
  {
   "cell_type": "code",
   "execution_count": null,
   "id": "0211ed15",
   "metadata": {},
   "outputs": [],
   "source": [
    "sns.lmplot(data=train,x='Square_Feet',y='Tax_Appraised_Value',line_kws={'color':'red'})\n",
    "plt.show()"
   ]
  },
  {
   "cell_type": "code",
   "execution_count": null,
   "id": "1557aa1a",
   "metadata": {},
   "outputs": [],
   "source": [
    "alpha=.05\n",
    "corr, p = stats.pearsonr(train.Square_Feet, train.Tax_Appraised_Value)\n",
    "p < alpha, corr"
   ]
  },
  {
   "cell_type": "markdown",
   "id": "66ba0195",
   "metadata": {},
   "source": [
    "**Reject the null hypothesis that there is no linear correlation. Correlation between square feet and appraised value is statistically significant, with an r value at .57**"
   ]
  },
  {
   "cell_type": "markdown",
   "id": "43fa853a",
   "metadata": {},
   "source": [
    "### Lot Size to Appraised Value\n",
    "- Null Hypothesis: There is no linear correlation between lot size and the appraised value of the home.\n",
    "- Alternative Hypothesis: There is a linear correlation between lot size and the appraised value of the home."
   ]
  },
  {
   "cell_type": "code",
   "execution_count": null,
   "id": "4bb28896",
   "metadata": {},
   "outputs": [],
   "source": [
    "sns.lmplot(data=train,x='Lot_Size',y='Tax_Appraised_Value',line_kws={'color':'red'})\n",
    "plt.show()"
   ]
  },
  {
   "cell_type": "code",
   "execution_count": null,
   "id": "1acf6ac3",
   "metadata": {},
   "outputs": [],
   "source": [
    "alpha=.05\n",
    "corr, p = stats.pearsonr(train.Lot_Size, train.Tax_Appraised_Value)\n",
    "p < alpha, corr"
   ]
  },
  {
   "cell_type": "markdown",
   "id": "40dc8388",
   "metadata": {},
   "source": [
    "**Reject the null hypothesis that there is no linear correlation. Correlation between lot size and appraised value is statistically significant, however, correlation is weak with an r value of .19**"
   ]
  },
  {
   "cell_type": "markdown",
   "id": "40891f7e",
   "metadata": {},
   "source": [
    "### County to Appraised Value\n",
    "- Null Hypothesis: There is no statistical significance between the appraised values in LA, Orange, or Ventura Counties.\n",
    "- Alternate Hypothesis: There is a statistical significance between the appraised values in LA, Orange, or Ventura Counties."
   ]
  },
  {
   "cell_type": "code",
   "execution_count": null,
   "id": "33a42fb6",
   "metadata": {},
   "outputs": [],
   "source": [
    "plt.figure(figsize=(10,12))\n",
    "sns.boxenplot(data=train, y=train.Tax_Appraised_Value, x=train.County)\n",
    "plt.axhline(train.Tax_Appraised_Value.mean(),ls= ':', color = 'black', linewidth=3)\n",
    "plt.show()"
   ]
  },
  {
   "cell_type": "code",
   "execution_count": null,
   "id": "b0204f35",
   "metadata": {},
   "outputs": [],
   "source": [
    "LA,Orange,Ventura = wrangle.create_county_db(df)"
   ]
  },
  {
   "cell_type": "code",
   "execution_count": null,
   "id": "1d5673c1",
   "metadata": {},
   "outputs": [],
   "source": [
    "f, p = stats.f_oneway(LA.Tax_Appraised_Value,Orange.Tax_Appraised_Value,Ventura.Tax_Appraised_Value)\n",
    "p < alpha"
   ]
  },
  {
   "cell_type": "markdown",
   "id": "1cf8bf50",
   "metadata": {},
   "source": [
    "**Reject the null hypothesis that there is no statistical significance between the three counties.**"
   ]
  },
  {
   "cell_type": "markdown",
   "id": "77beb4fc",
   "metadata": {},
   "source": [
    "### Modeling"
   ]
  },
  {
   "cell_type": "code",
   "execution_count": null,
   "id": "fd1ed73f",
   "metadata": {},
   "outputs": [],
   "source": [
    "# scale the split datasets with MinMax scaler\n",
    "train_scaled, validate_scaled, test_scaled = wrangle.scale_data(train,validate,test)"
   ]
  },
  {
   "cell_type": "code",
   "execution_count": null,
   "id": "af2aa945",
   "metadata": {},
   "outputs": [],
   "source": [
    "# set X and y values fro train, validate, test datasets\n",
    "X_train = train_scaled.drop(columns =['Tax_Appraised_Value','Tax_Assessed', 'County', 'Lot_Size', 'Tax_Rate',\n",
    "                              'Year_Built', 'County_LA', 'County_Orange', 'County_Ventura'])\n",
    "y_train = train_scaled['Tax_Appraised_Value']\n",
    "\n",
    "X_validate = validate_scaled.drop(columns =['Tax_Appraised_Value','Tax_Assessed', 'County', 'Lot_Size', 'Tax_Rate',\n",
    "                              'Year_Built', 'County_LA', 'County_Orange', 'County_Ventura'])\n",
    "y_validate = validate_scaled['Tax_Appraised_Value']\n",
    "\n",
    "X_test = test_scaled.drop(columns =['Tax_Appraised_Value','Tax_Assessed', 'County', 'Lot_Size', 'Tax_Rate',\n",
    "                              'Year_Built', 'County_LA', 'County_Orange', 'County_Ventura'])\n",
    "y_test = test_scaled['Tax_Appraised_Value']"
   ]
  },
  {
   "cell_type": "markdown",
   "id": "61e30357",
   "metadata": {},
   "source": [
    "#### Establish a baseline"
   ]
  },
  {
   "cell_type": "code",
   "execution_count": null,
   "id": "d8ce7df7",
   "metadata": {},
   "outputs": [],
   "source": [
    "# create df for y_train and y_validate\n",
    "y_train = pd.DataFrame(y_train)\n",
    "y_validate = pd.DataFrame(y_validate)"
   ]
  },
  {
   "cell_type": "code",
   "execution_count": null,
   "id": "a94fd4a6",
   "metadata": {},
   "outputs": [],
   "source": [
    "# add the mean value of the target variable\n",
    "y_train['TAV_pred_mean'] = round(train.Tax_Appraised_Value.mean(),2)\n",
    "y_validate['TAV_pred_mean'] = round(train.Tax_Appraised_Value.mean(),2)"
   ]
  },
  {
   "cell_type": "code",
   "execution_count": null,
   "id": "072db925",
   "metadata": {},
   "outputs": [],
   "source": [
    "rmse_train = mean_squared_error(y_train.Tax_Appraised_Value, y_train.TAV_pred_mean)**(1/2)\n",
    "rmse_validate = mean_squared_error(y_validate.Tax_Appraised_Value, y_validate.TAV_pred_mean)**(1/2)\n",
    "print(\"RMSE using Mean\\nTrain/In-Sample: \", round(rmse_train, 2), \n",
    "      \"\\nValidate/Out-of-Sample: \", round(rmse_validate, 2))"
   ]
  },
  {
   "cell_type": "markdown",
   "id": "e53a9aae",
   "metadata": {},
   "source": [
    "**Takeaways:** \n",
    "- Will utilize the mean for the baseline as is performs better than the median.\n",
    "- Out-of-sample model performs better than the in-sample model.\n"
   ]
  },
  {
   "cell_type": "markdown",
   "id": "0789b603",
   "metadata": {},
   "source": [
    "### Ordinary Least Squares Model\n",
    "\n",
    "**Features used in modeling: Number of Bedrooms, Number of Bathrooms, Square Feet**"
   ]
  },
  {
   "cell_type": "code",
   "execution_count": null,
   "id": "f03435a0",
   "metadata": {},
   "outputs": [],
   "source": [
    "y_train = pd.DataFrame(y_train)\n",
    "y_validate = pd.DataFrame(y_validate)"
   ]
  },
  {
   "cell_type": "code",
   "execution_count": null,
   "id": "9564cb87",
   "metadata": {},
   "outputs": [],
   "source": [
    "# create the model\n",
    "lm = LinearRegression(normalize=True)"
   ]
  },
  {
   "cell_type": "code",
   "execution_count": null,
   "id": "04e2557a",
   "metadata": {},
   "outputs": [],
   "source": [
    "# fit the model\n",
    "lm.fit(X_train, y_train.Tax_Appraised_Value)"
   ]
  },
  {
   "cell_type": "code",
   "execution_count": null,
   "id": "143c6fea",
   "metadata": {},
   "outputs": [],
   "source": [
    "# train the model\n",
    "y_train['TAV_pred_lm'] = lm.predict(X_train)\n",
    "y_validate['TAV_pred_lm'] = lm.predict(X_validate)"
   ]
  },
  {
   "cell_type": "code",
   "execution_count": null,
   "id": "088fe8d4",
   "metadata": {},
   "outputs": [],
   "source": [
    "# evaluate RMSE\n",
    "rmse_train = mean_squared_error(y_train.Tax_Appraised_Value, y_train.TAV_pred_lm)**(1/2)\n",
    "rmse_validate = mean_squared_error(y_validate.Tax_Appraised_Value, y_validate.TAV_pred_lm)**(1/2)\n",
    "print('RMSE OLS in Sample: ', round(rmse_train,2))\n",
    "print('RMSE OLS Out of Sample: ', round(rmse_validate,2))"
   ]
  },
  {
   "cell_type": "markdown",
   "id": "939f3f82",
   "metadata": {},
   "source": [
    "**Beats baseline by 71616.83 on in-sample data and by 71841.34 on out-of-sample data.**"
   ]
  },
  {
   "cell_type": "markdown",
   "id": "45a5bba5",
   "metadata": {},
   "source": [
    "### Tweedie Regressor Model"
   ]
  },
  {
   "cell_type": "code",
   "execution_count": null,
   "id": "13f66ec4",
   "metadata": {},
   "outputs": [],
   "source": [
    "# create the model\n",
    "glm = TweedieRegressor(power=0, alpha=1)"
   ]
  },
  {
   "cell_type": "code",
   "execution_count": null,
   "id": "92e7d072",
   "metadata": {},
   "outputs": [],
   "source": [
    "# fit the model\n",
    "glm.fit(X_train, y_train.Tax_Appraised_Value)"
   ]
  },
  {
   "cell_type": "code",
   "execution_count": null,
   "id": "96265454",
   "metadata": {},
   "outputs": [],
   "source": [
    "# train the model\n",
    "y_train['TAV_pred_glm'] = glm.predict(X_train)\n",
    "y_validate['TAV_pred_glm'] = glm.predict(X_validate)"
   ]
  },
  {
   "cell_type": "code",
   "execution_count": null,
   "id": "bfa00aaa",
   "metadata": {},
   "outputs": [],
   "source": [
    "# evaluate RMSE\n",
    "rmse_train = mean_squared_error(y_train.Tax_Appraised_Value, y_train.TAV_pred_glm)**(1/2)\n",
    "rmse_validate = mean_squared_error(y_validate.Tax_Appraised_Value, y_validate.TAV_pred_glm)**(1/2)\n",
    "print('RMSE  Tweedie in Sample: ', round(rmse_train,2))\n",
    "print('RMSE Tweedie Out of Sample: ', round(rmse_validate,2))"
   ]
  },
  {
   "cell_type": "markdown",
   "id": "f420e4c4",
   "metadata": {},
   "source": [
    "**Tweedie Regressor Model performs slightly better than baseline but worse than OLS**"
   ]
  },
  {
   "cell_type": "markdown",
   "id": "127d46a5",
   "metadata": {},
   "source": [
    "### Polynomial Regression Model"
   ]
  },
  {
   "cell_type": "code",
   "execution_count": null,
   "id": "10d5c7a1",
   "metadata": {},
   "outputs": [],
   "source": [
    "# make the polynomial features to get a new set of features\n",
    "pf = PolynomialFeatures(degree=2)\n",
    "# fit and transform X_train_scaled\n",
    "X_train_degree2 = pf.fit_transform(X_train)\n",
    "\n",
    "# transform X_validate_scaled & X_test_scaled\n",
    "X_validate_degree2 = pf.transform(X_validate)\n",
    "X_test_degree2 = pf.transform(X_test)"
   ]
  },
  {
   "cell_type": "code",
   "execution_count": null,
   "id": "21f408a5",
   "metadata": {},
   "outputs": [],
   "source": [
    "# create the model \n",
    "lm2 = LinearRegression(normalize=True)"
   ]
  },
  {
   "cell_type": "code",
   "execution_count": null,
   "id": "7b70498b",
   "metadata": {},
   "outputs": [],
   "source": [
    "# fit the model \n",
    "lm2.fit(X_train_degree2, y_train.Tax_Appraised_Value)"
   ]
  },
  {
   "cell_type": "code",
   "execution_count": null,
   "id": "9b85a31d",
   "metadata": {},
   "outputs": [],
   "source": [
    "# train the model\n",
    "y_train['TAV_pred_lm2'] = lm2.predict(X_train_degree2)\n",
    "y_validate['TAV_pred_lm2'] = lm2.predict(X_validate_degree2)"
   ]
  },
  {
   "cell_type": "code",
   "execution_count": null,
   "id": "4841ecb0",
   "metadata": {},
   "outputs": [],
   "source": [
    "# evaluate: rmse\n",
    "rmse_train = mean_squared_error(y_train.Tax_Appraised_Value, y_train.TAV_pred_lm2)**(1/2)\n",
    "rmse_validate = mean_squared_error(y_validate.Tax_Appraised_Value, y_validate.TAV_pred_lm2)**(1/2)\n",
    "print('RMSE in Sample: ', round(rmse_train,2))\n",
    "print('RMSE Out of Sample: ', round(rmse_validate,2))"
   ]
  },
  {
   "cell_type": "markdown",
   "id": "a7ee31c5",
   "metadata": {},
   "source": [
    "**Polynomial Regression Model performs better than baseline AND OLS model. Will move forward with Polynomial Model.**"
   ]
  },
  {
   "cell_type": "markdown",
   "id": "25c6fcce",
   "metadata": {},
   "source": [
    "### Polynomial Regression Model per County"
   ]
  },
  {
   "cell_type": "code",
   "execution_count": null,
   "id": "e7f9f49e",
   "metadata": {},
   "outputs": [],
   "source": [
    "# call the functions to split scaled train, validate, test datasets into counties\n",
    "LA_scaled_TR, Orange_scaled_TR, Ventura_scaled_TR = wrangle.train_county(train_scaled)\n",
    "LA_scaled_V, Orange_scaled_V, Ventura_scaled_V = wrangle.validate_county(validate_scaled)\n",
    "LA_scaled_T, Orange_scaled_T, Ventura_scaled_T = wrangle.test_county(test_scaled)"
   ]
  },
  {
   "cell_type": "markdown",
   "id": "9faa68ec",
   "metadata": {},
   "source": [
    "### LA County"
   ]
  },
  {
   "cell_type": "code",
   "execution_count": null,
   "id": "6d2f2e2d",
   "metadata": {},
   "outputs": [],
   "source": [
    "X_train = LA_scaled_TR.drop(columns =['Tax_Appraised_Value','Tax_Assessed', 'County', 'Lot_Size', 'Tax_Rate',\n",
    "                              'Year_Built', 'County_LA', 'County_Orange', 'County_Ventura'])\n",
    "y_train = LA_scaled_TR['Tax_Appraised_Value']\n",
    "\n",
    "X_validate = LA_scaled_V.drop(columns =['Tax_Appraised_Value','Tax_Assessed', 'County', 'Lot_Size', 'Tax_Rate',\n",
    "                              'Year_Built', 'County_LA', 'County_Orange', 'County_Ventura'])\n",
    "y_validate = LA_scaled_V['Tax_Appraised_Value']\n",
    "\n",
    "X_test = LA_scaled_T.drop(columns =['Tax_Appraised_Value','Tax_Assessed', 'County', 'Lot_Size', 'Tax_Rate',\n",
    "                              'Year_Built', 'County_LA', 'County_Orange', 'County_Ventura'])\n",
    "y_test = LA_scaled_T['Tax_Appraised_Value']"
   ]
  },
  {
   "cell_type": "code",
   "execution_count": null,
   "id": "27a4b7ef",
   "metadata": {},
   "outputs": [],
   "source": [
    "y_train = pd.DataFrame(y_train)\n",
    "y_validate = pd.DataFrame(y_validate)"
   ]
  },
  {
   "cell_type": "code",
   "execution_count": null,
   "id": "6e7c816a",
   "metadata": {},
   "outputs": [],
   "source": [
    "# make the polynomial features to get a new set of features\n",
    "pf = PolynomialFeatures(degree=2)\n",
    "# fit and transform X_train_scaled\n",
    "X_train_degree2 = pf.fit_transform(X_train)\n",
    "\n",
    "# transform X_validate_scaled & X_test_scaled\n",
    "X_validate_degree2 = pf.transform(X_validate)\n",
    "X_test_degree2 = pf.transform(X_test)"
   ]
  },
  {
   "cell_type": "code",
   "execution_count": null,
   "id": "4308c47c",
   "metadata": {},
   "outputs": [],
   "source": [
    "# create the model \n",
    "lm_LA = LinearRegression(normalize=True)"
   ]
  },
  {
   "cell_type": "code",
   "execution_count": null,
   "id": "2dede10a",
   "metadata": {},
   "outputs": [],
   "source": [
    "# fit the model \n",
    "lm_LA.fit(X_train_degree2, y_train.Tax_Appraised_Value)"
   ]
  },
  {
   "cell_type": "code",
   "execution_count": null,
   "id": "4b27c791",
   "metadata": {},
   "outputs": [],
   "source": [
    "y_train['TAV_pred_lm_LA'] = lm_LA.predict(X_train_degree2)\n",
    "y_validate['TAV_pred_lm_LA'] = lm_LA.predict(X_validate_degree2)"
   ]
  },
  {
   "cell_type": "code",
   "execution_count": null,
   "id": "da2174db",
   "metadata": {},
   "outputs": [],
   "source": [
    "rmse_train = mean_squared_error(y_train.Tax_Appraised_Value, y_train.TAV_pred_lm_LA)**(1/2)\n",
    "rmse_validate = mean_squared_error(y_validate.Tax_Appraised_Value, y_validate.TAV_pred_lm_LA)**(1/2)\n",
    "print('RMSE in Sample: ', round(rmse_train,2))\n",
    "print('RMSE Out of Sample: ', round(rmse_validate,2))"
   ]
  },
  {
   "cell_type": "markdown",
   "id": "6c05a27f",
   "metadata": {},
   "source": [
    "**Beats baseline by 71324.89 on in-sample data and by 73144.61 on out-of-sample data.**"
   ]
  },
  {
   "cell_type": "markdown",
   "id": "b653d5d5",
   "metadata": {},
   "source": [
    "### Orange County"
   ]
  },
  {
   "cell_type": "code",
   "execution_count": null,
   "id": "f229a574",
   "metadata": {},
   "outputs": [],
   "source": [
    "X_train = Orange_scaled_TR.drop(columns =['Tax_Appraised_Value','Tax_Assessed', 'County', 'Lot_Size', 'Tax_Rate',\n",
    "                              'Year_Built', 'County_LA', 'County_Orange', 'County_Ventura'])\n",
    "y_train = Orange_scaled_TR['Tax_Appraised_Value']\n",
    "\n",
    "X_validate = Orange_scaled_V.drop(columns =['Tax_Appraised_Value','Tax_Assessed', 'County', 'Lot_Size', 'Tax_Rate',\n",
    "                              'Year_Built', 'County_LA', 'County_Orange', 'County_Ventura'])\n",
    "y_validate = Orange_scaled_V['Tax_Appraised_Value']\n",
    "\n",
    "X_test = Orange_scaled_T.drop(columns =['Tax_Appraised_Value','Tax_Assessed', 'County', 'Lot_Size', 'Tax_Rate',\n",
    "                              'Year_Built', 'County_LA', 'County_Orange', 'County_Ventura'])\n",
    "y_test = Orange_scaled_T['Tax_Appraised_Value']"
   ]
  },
  {
   "cell_type": "code",
   "execution_count": null,
   "id": "58cf64a5",
   "metadata": {},
   "outputs": [],
   "source": [
    "y_train = pd.DataFrame(y_train)\n",
    "y_validate = pd.DataFrame(y_validate)"
   ]
  },
  {
   "cell_type": "code",
   "execution_count": null,
   "id": "3ce31953",
   "metadata": {},
   "outputs": [],
   "source": [
    "# make the polynomial features to get a new set of features\n",
    "pf = PolynomialFeatures(degree=2)\n",
    "# fit and transform X_train_scaled\n",
    "X_train_degree2 = pf.fit_transform(X_train)\n",
    "\n",
    "# transform X_validate_scaled & X_test_scaled\n",
    "X_validate_degree2 = pf.transform(X_validate)\n",
    "X_test_degree2 = pf.transform(X_test)"
   ]
  },
  {
   "cell_type": "code",
   "execution_count": null,
   "id": "15b8dcf7",
   "metadata": {},
   "outputs": [],
   "source": [
    "# create the model \n",
    "lm_Orange = LinearRegression(normalize=True)"
   ]
  },
  {
   "cell_type": "code",
   "execution_count": null,
   "id": "0553cd47",
   "metadata": {},
   "outputs": [],
   "source": [
    "# fit the model \n",
    "lm_Orange.fit(X_train_degree2, y_train.Tax_Appraised_Value)"
   ]
  },
  {
   "cell_type": "code",
   "execution_count": null,
   "id": "5217c4a6",
   "metadata": {},
   "outputs": [],
   "source": [
    "y_train['TAV_pred_lm_Orange'] = lm_Orange.predict(X_train_degree2)\n",
    "y_validate['TAV_pred_lm_Orange'] = lm_Orange.predict(X_validate_degree2)"
   ]
  },
  {
   "cell_type": "code",
   "execution_count": null,
   "id": "44445fff",
   "metadata": {},
   "outputs": [],
   "source": [
    "rmse_train = mean_squared_error(y_train.Tax_Appraised_Value, y_train.TAV_pred_lm_Orange)**(1/2)\n",
    "rmse_validate = mean_squared_error(y_validate.Tax_Appraised_Value, y_validate.TAV_pred_lm_Orange)**(1/2)\n",
    "print('RMSE in Sample: ', round(rmse_train,2))\n",
    "print('RMSE Out of Sample: ', round(rmse_validate,2))"
   ]
  },
  {
   "cell_type": "markdown",
   "id": "fdf40ba4",
   "metadata": {},
   "source": [
    "**Beats baseline by 71705.45 on in-sample data and by 68143.91 on out-of-sample data.**"
   ]
  },
  {
   "cell_type": "markdown",
   "id": "97300781",
   "metadata": {},
   "source": [
    "### Ventura County"
   ]
  },
  {
   "cell_type": "code",
   "execution_count": null,
   "id": "b16bf210",
   "metadata": {},
   "outputs": [],
   "source": [
    "X_train = Ventura_scaled_TR.drop(columns =['Tax_Appraised_Value','Tax_Assessed', 'County', 'Lot_Size', 'Tax_Rate',\n",
    "                              'Year_Built', 'County_LA', 'County_Orange', 'County_Ventura'])\n",
    "y_train = Ventura_scaled_TR['Tax_Appraised_Value']\n",
    "\n",
    "X_validate = Ventura_scaled_V.drop(columns =['Tax_Appraised_Value','Tax_Assessed', 'County', 'Lot_Size', 'Tax_Rate',\n",
    "                              'Year_Built', 'County_LA', 'County_Orange', 'County_Ventura'])\n",
    "y_validate = Ventura_scaled_V['Tax_Appraised_Value']\n",
    "\n",
    "X_test = Ventura_scaled_T.drop(columns =['Tax_Appraised_Value','Tax_Assessed', 'County', 'Lot_Size', 'Tax_Rate',\n",
    "                              'Year_Built', 'County_LA', 'County_Orange', 'County_Ventura'])\n",
    "y_test = Ventura_scaled_T['Tax_Appraised_Value']"
   ]
  },
  {
   "cell_type": "code",
   "execution_count": null,
   "id": "96abc9cb",
   "metadata": {},
   "outputs": [],
   "source": [
    "y_train = pd.DataFrame(y_train)\n",
    "y_validate = pd.DataFrame(y_validate)"
   ]
  },
  {
   "cell_type": "code",
   "execution_count": null,
   "id": "7ae2ef3a",
   "metadata": {},
   "outputs": [],
   "source": [
    "# make the polynomial features to get a new set of features\n",
    "pf = PolynomialFeatures(degree=2)\n",
    "# fit and transform X_train_scaled\n",
    "X_train_degree2 = pf.fit_transform(X_train)\n",
    "\n",
    "# transform X_validate_scaled & X_test_scaled\n",
    "X_validate_degree2 = pf.transform(X_validate)\n",
    "X_test_degree2 = pf.transform(X_test)"
   ]
  },
  {
   "cell_type": "code",
   "execution_count": null,
   "id": "5893f99b",
   "metadata": {},
   "outputs": [],
   "source": [
    "# create the model \n",
    "lm_Ventura = LinearRegression(normalize=True)"
   ]
  },
  {
   "cell_type": "code",
   "execution_count": null,
   "id": "15e86fe8",
   "metadata": {},
   "outputs": [],
   "source": [
    "# fit the model \n",
    "lm_Ventura.fit(X_train_degree2, y_train.Tax_Appraised_Value)"
   ]
  },
  {
   "cell_type": "code",
   "execution_count": null,
   "id": "8671fbab",
   "metadata": {},
   "outputs": [],
   "source": [
    "y_train['TAV_pred_lm_Ventura'] = lm_Ventura.predict(X_train_degree2)\n",
    "y_validate['TAV_pred_lm_Ventura'] = lm_Ventura.predict(X_validate_degree2)"
   ]
  },
  {
   "cell_type": "code",
   "execution_count": null,
   "id": "bd4152c4",
   "metadata": {},
   "outputs": [],
   "source": [
    "rmse_train = mean_squared_error(y_train.Tax_Appraised_Value, y_train.TAV_pred_lm_Ventura)**(1/2)\n",
    "rmse_validate = mean_squared_error(y_validate.Tax_Appraised_Value, y_validate.TAV_pred_lm_Ventura)**(1/2)\n",
    "print('RMSE in Sample: ', round(rmse_train,2))\n",
    "print('RMSE Out of Sample: ', round(rmse_validate,2))"
   ]
  },
  {
   "cell_type": "markdown",
   "id": "f7edfcfc",
   "metadata": {},
   "source": [
    "**Beats baseline by 167009 on in-sample data and by 168932.41 on out-of-sample data.**"
   ]
  },
  {
   "cell_type": "markdown",
   "id": "28b263ee",
   "metadata": {},
   "source": [
    "### Takeaways:\n",
    "- **Baseline:**\n",
    "    - RMSE In-Sample:  362827.44 \n",
    "    - RMSE Out-of-Sample:  362673.71\n",
    "- **Polynomial Model (3 Counties):**\n",
    "    - RMSE in Sample:  286186.0\n",
    "    - RMSE Out of Sample:  285811.24\n",
    "- **LA County:**\n",
    "    - RMSE in Sample:  291502.55\n",
    "    - RMSE Out of Sample:  289529.1\n",
    "- **Orange County:**\n",
    "    - RMSE in Sample:  291121.99\n",
    "    - RMSE Out of Sample:  294529.8\n",
    "- **Ventura County:**\n",
    "    - RMSE in Sample:  195818.44\n",
    "    - RMSE Out of Sample:  193741.3\n",
    "\n",
    "- Polynomial model is the best performing model.\n",
    "    - If utilizing model on LA or Orange Counties, utilize the model that include the data for all three counties for best predictions.\n",
    "    - if utilizing model on Ventura County, utilize the polynomial model that only includes Ventura County."
   ]
  },
  {
   "cell_type": "markdown",
   "id": "69faad4e",
   "metadata": {},
   "source": [
    "### Testing the best model "
   ]
  },
  {
   "cell_type": "code",
   "execution_count": null,
   "id": "6eabd6ef",
   "metadata": {},
   "outputs": [],
   "source": [
    "y_test = pd.DataFrame(y_test)"
   ]
  },
  {
   "cell_type": "code",
   "execution_count": null,
   "id": "17f8a251",
   "metadata": {},
   "outputs": [],
   "source": [
    "# predict on test\n",
    "y_test['TAV_pred_lm_Ventura'] = lm_Ventura.predict(X_test_degree2)"
   ]
  },
  {
   "cell_type": "code",
   "execution_count": null,
   "id": "bcb8f19a",
   "metadata": {},
   "outputs": [],
   "source": [
    "# evaluate: rmse\n",
    "rmse_test = mean_squared_error(y_test.Tax_Appraised_Value, y_test.TAV_pred_lm_Ventura)**(1/2)\n",
    "print('RMSE Test: ', round(rmse_test,2)) "
   ]
  },
  {
   "cell_type": "markdown",
   "id": "b1b4b9e9",
   "metadata": {},
   "source": [
    "### Recommendations\n",
    "- Gather additional data for better predictions\n",
    "    - School ratings\n",
    "    - Walkability scores\n",
    "    - Neighborhood features(parks, lakes, restaurants)\n",
    "- With additional time:\n",
    "    Explore feature engineering\n",
    "    Explore additional data from database (zipcodes, longitude/latitude, month of sale)"
   ]
  }
 ],
 "metadata": {
  "kernelspec": {
   "display_name": "Python 3 (ipykernel)",
   "language": "python",
   "name": "python3"
  },
  "language_info": {
   "codemirror_mode": {
    "name": "ipython",
    "version": 3
   },
   "file_extension": ".py",
   "mimetype": "text/x-python",
   "name": "python",
   "nbconvert_exporter": "python",
   "pygments_lexer": "ipython3",
   "version": "3.9.7"
  }
 },
 "nbformat": 4,
 "nbformat_minor": 5
}

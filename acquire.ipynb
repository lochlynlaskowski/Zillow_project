{
 "cells": [
  {
   "cell_type": "code",
   "execution_count": 7,
   "id": "e2485056",
   "metadata": {},
   "outputs": [],
   "source": [
    "import pandas as pd\n",
    "import numpy as np\n",
    "import os\n",
    "from env import get_db_url\n",
    "import seaborn as sns\n",
    "from statistics import stdev\n",
    "from sklearn.model_selection import train_test_split"
   ]
  },
  {
   "cell_type": "code",
   "execution_count": 8,
   "id": "cf850b21",
   "metadata": {},
   "outputs": [],
   "source": [
    "def get_zillow_data():\n",
    "    '''Returns a dataframe of all single family residential properties from 2017. Initial \n",
    "    query is from the Codeup database. File saved as CSV and called upon after initial query.'''\n",
    "    filename = \"zillow.csv\"\n",
    "    if os.path.isfile(filename):\n",
    "        return pd.read_csv(filename)\n",
    "    else:\n",
    "        sql_query = '''\n",
    "        SELECT properties_2017.bedroomcnt AS Number_of_Bedrooms,\n",
    "        properties_2017.bathroomcnt AS Number_of_Bathrooms,\n",
    "        properties_2017.calculatedfinishedsquarefeet AS Square_Feet, \n",
    "        properties_2017.taxvaluedollarcnt AS Tax_Appraised_Value, \n",
    "        properties_2017.yearbuilt AS Year_Built, \n",
    "        properties_2017.taxamount AS Tax_Assessed, properties_2017.fips AS County_Code,\n",
    "        properties_2017.lotsizesquarefeet AS Lot_Size\n",
    "        FROM properties_2017\n",
    "        JOIN propertylandusetype USING (propertylandusetypeid)\n",
    "        WHERE propertylandusedesc = 'Single Family Residential';\n",
    "        '''\n",
    "        df = pd.read_sql(sql_query, get_db_url('zillow'))\n",
    "        # save as .csv\n",
    "        df.to_csv('zillow.csv')\n",
    "    return df"
   ]
  },
  {
   "cell_type": "code",
   "execution_count": null,
   "id": "a934d998",
   "metadata": {},
   "outputs": [],
   "source": []
  }
 ],
 "metadata": {
  "kernelspec": {
   "display_name": "Python 3 (ipykernel)",
   "language": "python",
   "name": "python3"
  },
  "language_info": {
   "codemirror_mode": {
    "name": "ipython",
    "version": 3
   },
   "file_extension": ".py",
   "mimetype": "text/x-python",
   "name": "python",
   "nbconvert_exporter": "python",
   "pygments_lexer": "ipython3",
   "version": "3.9.7"
  }
 },
 "nbformat": 4,
 "nbformat_minor": 5
}
